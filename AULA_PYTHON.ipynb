{
  "nbformat": 4,
  "nbformat_minor": 0,
  "metadata": {
    "colab": {
      "provenance": [],
      "authorship_tag": "ABX9TyMCOm9pBfyMedCVPHiR/w/M",
      "include_colab_link": true
    },
    "kernelspec": {
      "name": "python3",
      "display_name": "Python 3"
    },
    "language_info": {
      "name": "python"
    }
  },
  "cells": [
    {
      "cell_type": "markdown",
      "metadata": {
        "id": "view-in-github",
        "colab_type": "text"
      },
      "source": [
        "<a href=\"https://colab.research.google.com/github/BLRBielX/PYTHON/blob/main/AULA_PYTHON.ipynb\" target=\"_parent\"><img src=\"https://colab.research.google.com/assets/colab-badge.svg\" alt=\"Open In Colab\"/></a>"
      ]
    },
    {
      "cell_type": "markdown",
      "source": [
        "#**AULA 1** 💙 ⚽ 🌂"
      ],
      "metadata": {
        "id": "jO1FK7f4nnUm"
      }
    },
    {
      "cell_type": "code",
      "source": [
        "print(\"I competição de programação da Start\")\n",
        "ano = \"IX\"\n",
        "print(f\"{ano} competição de programação da Start\")"
      ],
      "metadata": {
        "colab": {
          "base_uri": "https://localhost:8080/"
        },
        "id": "d3_dxKAZptbF",
        "outputId": "40fd2e7e-fcaa-4be8-a5be-1dd674cc6cd1"
      },
      "execution_count": null,
      "outputs": [
        {
          "output_type": "stream",
          "name": "stdout",
          "text": [
            "IX competição de programação da Start\n"
          ]
        }
      ]
    },
    {
      "cell_type": "markdown",
      "source": [
        "# **AULA 2** 👼 🙅 🥵"
      ],
      "metadata": {
        "id": "-s9COHyaiZt8"
      }
    },
    {
      "cell_type": "code",
      "source": [
        "livro_ficcao = 8\n",
        "livro_n_ficcao = 10\n",
        "livro_infantil = 6\n",
        "pontos_rodrigo = livro_ficcao + livro_n_ficcao + livro_infantil\n",
        "pontos_ana  = 2 * livro_ficcao + 5 * livro_infantil\n",
        "pontos_totais = pontos_rodrigo + pontos_ana\n",
        "print(f\"Os pontos totais do Rodrigo são {pontos_rodrigo}\")\n",
        "print(f\"Os pontos totais da ana são {pontos_ana}\")\n",
        "print(f\"Os pontos totais do Rodrigo e da Ana são {pontos_totais}\")"
      ],
      "metadata": {
        "colab": {
          "base_uri": "https://localhost:8080/"
        },
        "id": "NkZCOVXBpT6H",
        "outputId": "df8508de-6ca6-4542-e89f-6e775aa02f0e"
      },
      "execution_count": null,
      "outputs": [
        {
          "output_type": "stream",
          "name": "stdout",
          "text": [
            "Os pontos totais do Rodrigo são 24\n",
            "Os pontos totais da ana são 46\n",
            "Os pontos totais do Rodrigo e da Ana são 70\n"
          ]
        }
      ]
    },
    {
      "cell_type": "markdown",
      "source": [
        "# **AULA 3 TABUADA** 💪 🥷 💀"
      ],
      "metadata": {
        "id": "sJhMpxG3s8nb"
      }
    },
    {
      "cell_type": "code",
      "source": [
        "def tabuada(numero):\n",
        "    for contador in range(1, 11):  # Gera números de 1 a 10\n",
        "        print(f\"{numero} x {contador} = {numero * contador}\")\n",
        "numero = int(input(\"Digite um número para ver sua tabuada: \"))\n",
        "tabuada(numero)"
      ],
      "metadata": {
        "colab": {
          "base_uri": "https://localhost:8080/"
        },
        "id": "hRl1eJGZuV0f",
        "outputId": "8096c5fe-3969-4571-8d33-bd17b6133ef3"
      },
      "execution_count": null,
      "outputs": [
        {
          "output_type": "stream",
          "name": "stdout",
          "text": [
            "Digite um número para ver sua tabuada: 6\n",
            "6 x 1 = 6\n",
            "6 x 2 = 12\n",
            "6 x 3 = 18\n",
            "6 x 4 = 24\n",
            "6 x 5 = 30\n",
            "6 x 6 = 36\n",
            "6 x 7 = 42\n",
            "6 x 8 = 48\n",
            "6 x 9 = 54\n",
            "6 x 10 = 60\n"
          ]
        }
      ]
    },
    {
      "cell_type": "markdown",
      "source": [
        "#**AULA 4 IMC** ⏳ 🔥 🥪"
      ],
      "metadata": {
        "id": "ldVwIrrsu3a7"
      }
    },
    {
      "cell_type": "code",
      "source": [
        "peso = float(input(\"Digite seu peso (em kg): \"))\n",
        "altura = float(input(\"Digite sua altura (em metros): \"))\n",
        "imc = peso / (altura ** 2)\n",
        "print(f\"\\nSeu IMC é: {imc:.2f}\")\n",
        "if imc < 18.5:\n",
        "    print(\"Você está abaixo do peso.\")\n",
        "elif 18.5 <= imc < 25:\n",
        "    print(\"Você está no peso ideal.\")\n",
        "elif 25 <= imc < 30:\n",
        "    print(\"Você está com sobrepeso.\")\n",
        "else:\n",
        "    print(\"Você está acima do peso.\")"
      ],
      "metadata": {
        "colab": {
          "base_uri": "https://localhost:8080/"
        },
        "id": "htgDv0svvZBa",
        "outputId": "5c164cdd-7088-46dd-ad6f-1715591e3eec"
      },
      "execution_count": null,
      "outputs": [
        {
          "output_type": "stream",
          "name": "stdout",
          "text": [
            "Digite seu peso (em kg): 58.8\n",
            "Digite sua altura (em metros): 1.72\n",
            "\n",
            "Seu IMC é: 19.88\n",
            "Você está no peso ideal.\n"
          ]
        }
      ]
    },
    {
      "cell_type": "markdown",
      "source": [
        "#**AULA 5** ✊ 🥇 ⛺"
      ],
      "metadata": {
        "id": "cp1D7ymFkZmT"
      }
    },
    {
      "cell_type": "code",
      "source": [
        "print(\"Olá, sou seu assistente virtual, em que posso ajudar?\")\n",
        "nome = input(\"Digite seu nome: \")\n",
        "resposta = input(f\"Olá {nome}, qual tema você deseja conversar? Python, Javascript ou Matemática: \").lower()\n",
        "if resposta == \"python\":\n",
        "  print(f\"Ótimo {nome}, vamos falar sobre Python. \\n Python é uma linguagem de programação simples e fácil de aprender, usada em web, dados, automação e inteligência artificial.\")\n",
        "if resposta == \"javascript\":\n",
        "  print(f\"Ótimo {nome}, vamos falar sobre Javascript. JavaScript é uma linguagem usada para criar interatividade em sites, funciona principalmente no navegador e é essencial para o desenvolvimento web.\")\n",
        "if resposta == \"matemática\":\n",
        "  print(f\"Ótimo {nome}, vamos falar sobre Matemática. Matemática é a ciência que estuda números, formas, medidas e relações entre eles, ela é base para diversas áreas do conhecimento e da tecnologia.\")\n",
        "else:\n",
        "  print(f\"Que pena {nome}, não sei falar sobre esse assunto.\")"
      ],
      "metadata": {
        "colab": {
          "base_uri": "https://localhost:8080/"
        },
        "id": "DQKd3PTsk38n",
        "outputId": "225ec6b3-fe96-4abc-ce06-262a1042b96e"
      },
      "execution_count": 6,
      "outputs": [
        {
          "name": "stdout",
          "output_type": "stream",
          "text": [
            "Olá, sou seu assistente virtual, em que posso ajudar?\n",
            "Digite seu nome: Gabe\n",
            "Olá Gabe, qual tema você deseja conversar? Python, Javascript ou Matemática: Matemática\n"
          ]
        }
      ]
    }
  ]
}